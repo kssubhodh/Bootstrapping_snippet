{
 "cells": [
  {
   "cell_type": "markdown",
   "metadata": {},
   "source": [
    "## EMPIRICAL BOOTSTRAP BASED CONFIDENCE INTERVAL"
   ]
  },
  {
   "cell_type": "markdown",
   "metadata": {},
   "source": [
    "* This is a simple code snippet to demonstrate bootstrap sampling method to obtain C.I for median of a population given sample of size 10.\n",
    "\n",
    "* Dataset : 1 sample of size 10 of heights (in cm)\n",
    "\n",
    "* Objective: Obtain Confidence Interval of population median from given sample using bootstrap method\n",
    "\n",
    "\n",
    "\n",
    "*note: this is part of a code walkthrough of <a href=\"https://www.appliedaicourse.com/\" target=\"_blank\">Applied AI Course.</a>*"
   ]
  },
  {
   "cell_type": "code",
   "execution_count": 3,
   "metadata": {},
   "outputs": [],
   "source": [
    "#importing required libraries\n",
    "import pandas as pd\n",
    "import numpy as np\n",
    "from sklearn.utils import resample\n",
    "from sklearn.metrics import accuracy_score\n",
    "from matplotlib import pyplot"
   ]
  },
  {
   "cell_type": "code",
   "execution_count": 9,
   "metadata": {
    "scrolled": true
   },
   "outputs": [
    {
     "data": {
      "image/png": "[encoded data removed]",
      "text/plain": [
       "<Figure size 432x288 with 1 Axes>"
      ]
     },
     "metadata": {
      "needs_background": "light"
     },
     "output_type": "display_data"
    },
    {
     "name": "stdout",
     "output_type": "stream",
     "text": [
      "95.0% Confidence Interval(C.I) of medians is between 162.0 and 176.0 \n"
     ]
    }
   ],
   "source": [
    "#Dataset\n",
    "x = np.array([180,162,158,172,168,150,171,183,165,176])\n",
    "\n",
    "#Configure bootstrap\n",
    "n_iterations = 1000\n",
    "n_size = int(len(x))\n",
    "\n",
    "#run bootstrap\n",
    "medians = list()\n",
    "for i in range(n_iterations):\n",
    "    #prepare train and test sets\n",
    "    s = resample(x,n_samples = n_size) #bootstrap sample\n",
    "    m = np.median(s)\n",
    "    #print m\n",
    "    medians.append(m)\n",
    "    \n",
    "#plot scores\n",
    "pyplot.hist(medians)\n",
    "pyplot.show()\n",
    "\n",
    "#confidence intervals\n",
    "alpha = 0.95\n",
    "p = ((1-alpha)/2)*100\n",
    "lower = np.percentile(medians,p)\n",
    "\n",
    "q = (alpha + ((1-alpha)/2))*100\n",
    "upper = np.percentile(medians,q)\n",
    "\n",
    "print(\"{}% Confidence Interval(C.I) of medians is between {} and {} \".format(alpha*100,lower,upper))"
   ]
  },
  {
   "cell_type": "markdown",
   "metadata": {},
   "source": [
    "###### In conclusion:\n",
    "* Distribution of heights was unknown(population)\n",
    "* Random sample of size 10 was given (sample)\n",
    "* Objective was to calculate C.I for **median of population** given only a sample\n",
    "* Using Bootstrap Method , objective is satisfied\n",
    "\n",
    "###### references: \n",
    "* <a href=\"https://en.wikipedia.org/wiki/Bootstrapping_(statistics)\" target=\"_blank\">Bootstrapping</a>\n",
    "* <a href=\"https://www.mathsisfun.com/data/confidence-interval.html\" target=\"_blank\">Confidence Interval(C.I)</a>"
   ]
  }
 ],
 "metadata": {
  "kernelspec": {
   "display_name": "Python 3",
   "language": "python",
   "name": "python3"
  },
  "language_info": {
   "codemirror_mode": {
    "name": "ipython",
    "version": 3
   },
   "file_extension": ".py",
   "mimetype": "text/x-python",
   "name": "python",
   "nbconvert_exporter": "python",
   "pygments_lexer": "ipython3",
   "version": "3.7.4"
  }
 },
 "nbformat": 4,
 "nbformat_minor": 4
}
